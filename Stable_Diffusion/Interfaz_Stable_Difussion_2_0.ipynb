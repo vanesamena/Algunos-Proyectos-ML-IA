{
  "nbformat": 4,
  "nbformat_minor": 0,
  "metadata": {
    "colab": {
      "provenance": []
    },
    "kernelspec": {
      "name": "python3",
      "display_name": "Python 3"
    },
    "language_info": {
      "name": "python"
    },
    "accelerator": "GPU",
    "gpuClass": "standard",
    "widgets": {
      "application/vnd.jupyter.widget-state+json": {
        "9344b34d756140adb53022449dde8cd4": {
          "model_module": "@jupyter-widgets/controls",
          "model_name": "HBoxModel",
          "model_module_version": "1.5.0",
          "state": {
            "_dom_classes": [],
            "_model_module": "@jupyter-widgets/controls",
            "_model_module_version": "1.5.0",
            "_model_name": "HBoxModel",
            "_view_count": null,
            "_view_module": "@jupyter-widgets/controls",
            "_view_module_version": "1.5.0",
            "_view_name": "HBoxView",
            "box_style": "",
            "children": [
              "IPY_MODEL_2bcf1055466f42bfb3a5c1be5e054ec6",
              "IPY_MODEL_255275bfafca4f3783210abdec349ab4",
              "IPY_MODEL_48e4e5673fa04a3d8c742ea187df3628"
            ],
            "layout": "IPY_MODEL_b85acd3f3fe34b849663c92bb28b229c"
          }
        },
        "2bcf1055466f42bfb3a5c1be5e054ec6": {
          "model_module": "@jupyter-widgets/controls",
          "model_name": "HTMLModel",
          "model_module_version": "1.5.0",
          "state": {
            "_dom_classes": [],
            "_model_module": "@jupyter-widgets/controls",
            "_model_module_version": "1.5.0",
            "_model_name": "HTMLModel",
            "_view_count": null,
            "_view_module": "@jupyter-widgets/controls",
            "_view_module_version": "1.5.0",
            "_view_name": "HTMLView",
            "description": "",
            "description_tooltip": null,
            "layout": "IPY_MODEL_ca59b39d3c854ce0948eb7cfca67020c",
            "placeholder": "​",
            "style": "IPY_MODEL_ff7bcf1311344a4a84d3080f64311716",
            "value": "Fetching 12 files: 100%"
          }
        },
        "255275bfafca4f3783210abdec349ab4": {
          "model_module": "@jupyter-widgets/controls",
          "model_name": "FloatProgressModel",
          "model_module_version": "1.5.0",
          "state": {
            "_dom_classes": [],
            "_model_module": "@jupyter-widgets/controls",
            "_model_module_version": "1.5.0",
            "_model_name": "FloatProgressModel",
            "_view_count": null,
            "_view_module": "@jupyter-widgets/controls",
            "_view_module_version": "1.5.0",
            "_view_name": "ProgressView",
            "bar_style": "success",
            "description": "",
            "description_tooltip": null,
            "layout": "IPY_MODEL_287f73c89a024821984d22ed390a4a42",
            "max": 12,
            "min": 0,
            "orientation": "horizontal",
            "style": "IPY_MODEL_9d789a5b7d9646a18b6f05d91946fd29",
            "value": 12
          }
        },
        "48e4e5673fa04a3d8c742ea187df3628": {
          "model_module": "@jupyter-widgets/controls",
          "model_name": "HTMLModel",
          "model_module_version": "1.5.0",
          "state": {
            "_dom_classes": [],
            "_model_module": "@jupyter-widgets/controls",
            "_model_module_version": "1.5.0",
            "_model_name": "HTMLModel",
            "_view_count": null,
            "_view_module": "@jupyter-widgets/controls",
            "_view_module_version": "1.5.0",
            "_view_name": "HTMLView",
            "description": "",
            "description_tooltip": null,
            "layout": "IPY_MODEL_6b4a61cbd5694a5aaf14bf2cc2ff39fb",
            "placeholder": "​",
            "style": "IPY_MODEL_73605b6d4955495e88b09a4b78b597dc",
            "value": " 12/12 [00:00&lt;00:00, 354.56it/s]"
          }
        },
        "b85acd3f3fe34b849663c92bb28b229c": {
          "model_module": "@jupyter-widgets/base",
          "model_name": "LayoutModel",
          "model_module_version": "1.2.0",
          "state": {
            "_model_module": "@jupyter-widgets/base",
            "_model_module_version": "1.2.0",
            "_model_name": "LayoutModel",
            "_view_count": null,
            "_view_module": "@jupyter-widgets/base",
            "_view_module_version": "1.2.0",
            "_view_name": "LayoutView",
            "align_content": null,
            "align_items": null,
            "align_self": null,
            "border": null,
            "bottom": null,
            "display": null,
            "flex": null,
            "flex_flow": null,
            "grid_area": null,
            "grid_auto_columns": null,
            "grid_auto_flow": null,
            "grid_auto_rows": null,
            "grid_column": null,
            "grid_gap": null,
            "grid_row": null,
            "grid_template_areas": null,
            "grid_template_columns": null,
            "grid_template_rows": null,
            "height": null,
            "justify_content": null,
            "justify_items": null,
            "left": null,
            "margin": null,
            "max_height": null,
            "max_width": null,
            "min_height": null,
            "min_width": null,
            "object_fit": null,
            "object_position": null,
            "order": null,
            "overflow": null,
            "overflow_x": null,
            "overflow_y": null,
            "padding": null,
            "right": null,
            "top": null,
            "visibility": null,
            "width": null
          }
        },
        "ca59b39d3c854ce0948eb7cfca67020c": {
          "model_module": "@jupyter-widgets/base",
          "model_name": "LayoutModel",
          "model_module_version": "1.2.0",
          "state": {
            "_model_module": "@jupyter-widgets/base",
            "_model_module_version": "1.2.0",
            "_model_name": "LayoutModel",
            "_view_count": null,
            "_view_module": "@jupyter-widgets/base",
            "_view_module_version": "1.2.0",
            "_view_name": "LayoutView",
            "align_content": null,
            "align_items": null,
            "align_self": null,
            "border": null,
            "bottom": null,
            "display": null,
            "flex": null,
            "flex_flow": null,
            "grid_area": null,
            "grid_auto_columns": null,
            "grid_auto_flow": null,
            "grid_auto_rows": null,
            "grid_column": null,
            "grid_gap": null,
            "grid_row": null,
            "grid_template_areas": null,
            "grid_template_columns": null,
            "grid_template_rows": null,
            "height": null,
            "justify_content": null,
            "justify_items": null,
            "left": null,
            "margin": null,
            "max_height": null,
            "max_width": null,
            "min_height": null,
            "min_width": null,
            "object_fit": null,
            "object_position": null,
            "order": null,
            "overflow": null,
            "overflow_x": null,
            "overflow_y": null,
            "padding": null,
            "right": null,
            "top": null,
            "visibility": null,
            "width": null
          }
        },
        "ff7bcf1311344a4a84d3080f64311716": {
          "model_module": "@jupyter-widgets/controls",
          "model_name": "DescriptionStyleModel",
          "model_module_version": "1.5.0",
          "state": {
            "_model_module": "@jupyter-widgets/controls",
            "_model_module_version": "1.5.0",
            "_model_name": "DescriptionStyleModel",
            "_view_count": null,
            "_view_module": "@jupyter-widgets/base",
            "_view_module_version": "1.2.0",
            "_view_name": "StyleView",
            "description_width": ""
          }
        },
        "287f73c89a024821984d22ed390a4a42": {
          "model_module": "@jupyter-widgets/base",
          "model_name": "LayoutModel",
          "model_module_version": "1.2.0",
          "state": {
            "_model_module": "@jupyter-widgets/base",
            "_model_module_version": "1.2.0",
            "_model_name": "LayoutModel",
            "_view_count": null,
            "_view_module": "@jupyter-widgets/base",
            "_view_module_version": "1.2.0",
            "_view_name": "LayoutView",
            "align_content": null,
            "align_items": null,
            "align_self": null,
            "border": null,
            "bottom": null,
            "display": null,
            "flex": null,
            "flex_flow": null,
            "grid_area": null,
            "grid_auto_columns": null,
            "grid_auto_flow": null,
            "grid_auto_rows": null,
            "grid_column": null,
            "grid_gap": null,
            "grid_row": null,
            "grid_template_areas": null,
            "grid_template_columns": null,
            "grid_template_rows": null,
            "height": null,
            "justify_content": null,
            "justify_items": null,
            "left": null,
            "margin": null,
            "max_height": null,
            "max_width": null,
            "min_height": null,
            "min_width": null,
            "object_fit": null,
            "object_position": null,
            "order": null,
            "overflow": null,
            "overflow_x": null,
            "overflow_y": null,
            "padding": null,
            "right": null,
            "top": null,
            "visibility": null,
            "width": null
          }
        },
        "9d789a5b7d9646a18b6f05d91946fd29": {
          "model_module": "@jupyter-widgets/controls",
          "model_name": "ProgressStyleModel",
          "model_module_version": "1.5.0",
          "state": {
            "_model_module": "@jupyter-widgets/controls",
            "_model_module_version": "1.5.0",
            "_model_name": "ProgressStyleModel",
            "_view_count": null,
            "_view_module": "@jupyter-widgets/base",
            "_view_module_version": "1.2.0",
            "_view_name": "StyleView",
            "bar_color": null,
            "description_width": ""
          }
        },
        "6b4a61cbd5694a5aaf14bf2cc2ff39fb": {
          "model_module": "@jupyter-widgets/base",
          "model_name": "LayoutModel",
          "model_module_version": "1.2.0",
          "state": {
            "_model_module": "@jupyter-widgets/base",
            "_model_module_version": "1.2.0",
            "_model_name": "LayoutModel",
            "_view_count": null,
            "_view_module": "@jupyter-widgets/base",
            "_view_module_version": "1.2.0",
            "_view_name": "LayoutView",
            "align_content": null,
            "align_items": null,
            "align_self": null,
            "border": null,
            "bottom": null,
            "display": null,
            "flex": null,
            "flex_flow": null,
            "grid_area": null,
            "grid_auto_columns": null,
            "grid_auto_flow": null,
            "grid_auto_rows": null,
            "grid_column": null,
            "grid_gap": null,
            "grid_row": null,
            "grid_template_areas": null,
            "grid_template_columns": null,
            "grid_template_rows": null,
            "height": null,
            "justify_content": null,
            "justify_items": null,
            "left": null,
            "margin": null,
            "max_height": null,
            "max_width": null,
            "min_height": null,
            "min_width": null,
            "object_fit": null,
            "object_position": null,
            "order": null,
            "overflow": null,
            "overflow_x": null,
            "overflow_y": null,
            "padding": null,
            "right": null,
            "top": null,
            "visibility": null,
            "width": null
          }
        },
        "73605b6d4955495e88b09a4b78b597dc": {
          "model_module": "@jupyter-widgets/controls",
          "model_name": "DescriptionStyleModel",
          "model_module_version": "1.5.0",
          "state": {
            "_model_module": "@jupyter-widgets/controls",
            "_model_module_version": "1.5.0",
            "_model_name": "DescriptionStyleModel",
            "_view_count": null,
            "_view_module": "@jupyter-widgets/base",
            "_view_module_version": "1.2.0",
            "_view_name": "StyleView",
            "description_width": ""
          }
        }
      }
    }
  },
  "cells": [
    {
      "cell_type": "markdown",
      "source": [
        "# Interfaz para usar Stable Diffusion 2.0\n",
        "\n",
        "Notas:\n",
        "- Primero, hay que asegurarse de estar usando un entorno de ejecución GPU para ejecutar este notebook, de modo que la inferencia sea mucho más rápida. Ir en el menú `entorno de ejecución`, seleccione `Cambiar tipo de entorno ejecución` y chequear que en `Acelerador de hardware` este seleccionado `GPU`\n",
        "- Una vez todo ejecutado puede abrir la pagina del localhost generada para interactuar con mas comodidad\n",
        "- Las imagenes no se guardan automaticamente. Puede hacerlo con un click derecho y darle \"guardar imagen como\"\n",
        "\n",
        "Si queres contactar o ver otros proyectos te invito que visites mis redes:\n",
        "[![Linkedin](https://i.stack.imgur.com/gVE0j.png) LinkedIn](https://www.linkedin.com/in/laura-vanesa-mena/)   [![GitHub](https://i.stack.imgur.com/tskMh.png) GitHub](https://github.com/vanesamena)   [![Twitter](http://i.imgur.com/wWzX9uB.png) Twitter](https://twitter.com/Vanesa_Mena_)   🤗[Hugging Face](https://huggingface.co/VaneM)\n",
        "\n"
      ],
      "metadata": {
        "id": "kIHQYPa9K9Jr"
      }
    },
    {
      "cell_type": "code",
      "source": [
        "#@title 1. Ejecutar la siguiente linea de codigo para instalar las dependencias\n",
        "from IPython.display import clear_output\n",
        "!pip install --upgrade git+https://github.com/huggingface/diffusers.git \n",
        "!pip install transformers \n",
        "!pip install accelerate \n",
        "!pip install scipy\n",
        "# Paquetes necesarios para la traduccion\n",
        "!pip install sentencepiece\n",
        "!pip install sacremoses\n",
        "!pip install gradio\n",
        "\n",
        "clear_output()\n",
        "print('Dependencias instaladas')"
      ],
      "metadata": {
        "colab": {
          "base_uri": "https://localhost:8080/"
        },
        "cellView": "form",
        "id": "uERkfqJELGwT",
        "outputId": "808fab89-33db-4735-a0dc-ecdfd7e0a61c"
      },
      "execution_count": 5,
      "outputs": [
        {
          "output_type": "stream",
          "name": "stdout",
          "text": [
            "Dependencias instaladas\n"
          ]
        }
      ]
    },
    {
      "cell_type": "code",
      "source": [
        "#@title 2. Ejecutar la siguiente linea de codigo para configurar el ambiente\n",
        "from IPython.display import clear_output\n",
        "\n",
        "from diffusers import StableDiffusionPipeline,  EulerDiscreteScheduler\n",
        "from transformers import pipeline\n",
        "import torch\n",
        "from IPython.display import clear_output\n",
        "import gradio as gr\n",
        "\n",
        "model_name = \"stabilityai/stable-diffusion-2\"\n",
        "scheduler = EulerDiscreteScheduler.from_pretrained(model_name, subfolder=\"scheduler\")\n",
        "pipe = StableDiffusionPipeline.from_pretrained(model_name, scheduler=scheduler, revision=\"fp16\", torch_dtype=torch.float16)\n",
        "\n",
        "# Movemos el pipeline a GPU para tener una inferencia más rápida.\n",
        "device = \"cuda\" if torch.cuda.is_available() else \"cpu\"\n",
        "pipe = pipe.to(device)\n",
        "pipe.enable_attention_slicing() \n",
        "\n",
        "# Cargamos el modelo traductor y creamos el pipeline para traducir al ingles\n",
        "spanish_model_name = \"Helsinki-NLP/opus-mt-es-en\"\n",
        "translator_es_en = pipeline(\"translation\", model=spanish_model_name)\n",
        "\n",
        "clear_output()\n",
        "print('Ambiente configurado')"
      ],
      "metadata": {
        "colab": {
          "base_uri": "https://localhost:8080/",
          "height": 49,
          "referenced_widgets": [
            "9344b34d756140adb53022449dde8cd4",
            "2bcf1055466f42bfb3a5c1be5e054ec6",
            "255275bfafca4f3783210abdec349ab4",
            "48e4e5673fa04a3d8c742ea187df3628",
            "b85acd3f3fe34b849663c92bb28b229c",
            "ca59b39d3c854ce0948eb7cfca67020c",
            "ff7bcf1311344a4a84d3080f64311716",
            "287f73c89a024821984d22ed390a4a42",
            "9d789a5b7d9646a18b6f05d91946fd29",
            "6b4a61cbd5694a5aaf14bf2cc2ff39fb",
            "73605b6d4955495e88b09a4b78b597dc"
          ]
        },
        "cellView": "form",
        "id": "kERvY5L3LHbR",
        "outputId": "44d71226-e63d-4b68-d0f8-4783e8dbf8a5"
      },
      "execution_count": 6,
      "outputs": [
        {
          "output_type": "stream",
          "name": "stdout",
          "text": [
            "Ambiente configurado\n"
          ]
        }
      ]
    },
    {
      "cell_type": "code",
      "execution_count": 8,
      "metadata": {
        "colab": {
          "base_uri": "https://localhost:8080/",
          "height": 616
        },
        "cellView": "form",
        "id": "dFzOb1jAK5a1",
        "outputId": "57e028db-a643-4848-f8e7-dcd5462803ae"
      },
      "outputs": [
        {
          "output_type": "stream",
          "name": "stdout",
          "text": [
            "Colab notebook detected. To show errors in colab notebook, set `debug=True` in `launch()`\n",
            "Note: opening Chrome Inspector may crash demo inside Colab notebooks.\n",
            "\n",
            "To create a public link, set `share=True` in `launch()`.\n"
          ]
        },
        {
          "output_type": "display_data",
          "data": {
            "text/plain": [
              "<IPython.core.display.Javascript object>"
            ],
            "application/javascript": [
              "(async (port, path, width, height, cache, element) => {\n",
              "                        if (!google.colab.kernel.accessAllowed && !cache) {\n",
              "                            return;\n",
              "                        }\n",
              "                        element.appendChild(document.createTextNode(''));\n",
              "                        const url = await google.colab.kernel.proxyPort(port, {cache});\n",
              "\n",
              "                        const external_link = document.createElement('div');\n",
              "                        external_link.innerHTML = `\n",
              "                            <div style=\"font-family: monospace; margin-bottom: 0.5rem\">\n",
              "                                Running on <a href=${new URL(path, url).toString()} target=\"_blank\">\n",
              "                                    https://localhost:${port}${path}\n",
              "                                </a>\n",
              "                            </div>\n",
              "                        `;\n",
              "                        element.appendChild(external_link);\n",
              "\n",
              "                        const iframe = document.createElement('iframe');\n",
              "                        iframe.src = new URL(path, url).toString();\n",
              "                        iframe.height = height;\n",
              "                        iframe.allow = \"autoplay; camera; microphone; clipboard-read; clipboard-write;\"\n",
              "                        iframe.width = width;\n",
              "                        iframe.style.border = 0;\n",
              "                        element.appendChild(iframe);\n",
              "                    })(7860, \"/\", \"100%\", 500, false, window.element)"
            ]
          },
          "metadata": {}
        },
        {
          "output_type": "execute_result",
          "data": {
            "text/plain": []
          },
          "metadata": {},
          "execution_count": 8
        }
      ],
      "source": [
        "#@title 3. FINAL: Ejecutar la siguiente linea de codigo para generar la interfaz gráfica\n",
        "def predict(text):\n",
        "  prompt_es = text\n",
        "  english_text = translator_es_en(prompt_es)\n",
        "  prompt_en = english_text[0]['translation_text']\n",
        "  image = pipe(prompt_en).images[0]\n",
        "  return image\n",
        "\n",
        "description = \"\"\"\n",
        "<h2 style=\"text-align:center\">Programa para generar imágenes a partir de texto con Stable Diffusion 2.0</h2>\n",
        "<h2 style=\"text-align:center\">Prompt en español!!</h2>\n",
        "\"\"\"\n",
        "\n",
        "gr.Interface(fn=predict,\n",
        "              title=\"Texto a Imagen en Español\",\n",
        "              inputs= gr.Textbox(\"\", max_lines = 2, label = \"Inserte su texto aqui\"),\n",
        "              outputs = \"image\",\n",
        "              description = description,\n",
        "             article = 'Las imagenes no se guardan automaticamente. Puede hacerlo con un click derecho y darle \"guardar imagen como\"').launch()"
      ]
    }
  ]
}